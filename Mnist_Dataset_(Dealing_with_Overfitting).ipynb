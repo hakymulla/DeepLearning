{
 "cells": [
  {
   "cell_type": "code",
   "execution_count": 0,
   "metadata": {
    "colab": {},
    "colab_type": "code",
    "id": "JSk84D3Z5gjZ"
   },
   "outputs": [],
   "source": [
    "from keras.datasets import mnist"
   ]
  },
  {
   "cell_type": "code",
   "execution_count": 0,
   "metadata": {
    "colab": {},
    "colab_type": "code",
    "id": "Tf0eRA3h5sWY"
   },
   "outputs": [],
   "source": [
    "(X_train, y_train), (X_test, y_test) = mnist.load_data()"
   ]
  },
  {
   "cell_type": "code",
   "execution_count": 28,
   "metadata": {
    "colab": {
     "base_uri": "https://localhost:8080/",
     "height": 34
    },
    "colab_type": "code",
    "id": "ch69piO55yq4",
    "outputId": "a00c338a-ce1b-4878-8ffc-118497907a05"
   },
   "outputs": [
    {
     "data": {
      "text/plain": [
       "((60000, 28, 28), (60000,), (10000, 28, 28), (10000,))"
      ]
     },
     "execution_count": 28,
     "metadata": {
      "tags": []
     },
     "output_type": "execute_result"
    }
   ],
   "source": [
    "(X_train.shape, y_train.shape, X_test.shape, y_test.shape)"
   ]
  },
  {
   "cell_type": "code",
   "execution_count": 0,
   "metadata": {
    "colab": {},
    "colab_type": "code",
    "id": "42FMIpSp5z18"
   },
   "outputs": [],
   "source": [
    "X_train = X_train[:,:,:,None]\n",
    "X_test = X_test[:,:,:,None]"
   ]
  },
  {
   "cell_type": "code",
   "execution_count": 30,
   "metadata": {
    "colab": {
     "base_uri": "https://localhost:8080/",
     "height": 34
    },
    "colab_type": "code",
    "id": "uA8SO_cK6vk7",
    "outputId": "c66052ef-fc6e-4889-ef53-e5ffd9e4dbb7"
   },
   "outputs": [
    {
     "data": {
      "text/plain": [
       "((60000, 28, 28, 1), (60000,), (10000, 28, 28, 1), (10000,))"
      ]
     },
     "execution_count": 30,
     "metadata": {
      "tags": []
     },
     "output_type": "execute_result"
    }
   ],
   "source": [
    "(X_train.shape, y_train.shape, X_test.shape, y_test.shape)"
   ]
  },
  {
   "cell_type": "code",
   "execution_count": 31,
   "metadata": {
    "colab": {
     "base_uri": "https://localhost:8080/",
     "height": 34
    },
    "colab_type": "code",
    "id": "JXmbozxT68x4",
    "outputId": "98c6e363-209c-4dd6-9d9d-94cda3c9f1f3"
   },
   "outputs": [
    {
     "data": {
      "text/plain": [
       "array([5, 0, 4, 1, 9, 2, 1, 3, 1, 4], dtype=uint8)"
      ]
     },
     "execution_count": 31,
     "metadata": {
      "tags": []
     },
     "output_type": "execute_result"
    }
   ],
   "source": [
    "y_train[:10]"
   ]
  },
  {
   "cell_type": "code",
   "execution_count": 0,
   "metadata": {
    "colab": {},
    "colab_type": "code",
    "id": "RNviwwLT7BR7"
   },
   "outputs": [],
   "source": [
    "from keras.utils import to_categorical"
   ]
  },
  {
   "cell_type": "code",
   "execution_count": 0,
   "metadata": {
    "colab": {},
    "colab_type": "code",
    "id": "wz1XaCHY7D9D"
   },
   "outputs": [],
   "source": [
    "y_train = to_categorical(y_train)\n",
    "y_test = to_categorical(y_test)"
   ]
  },
  {
   "cell_type": "code",
   "execution_count": 34,
   "metadata": {
    "colab": {
     "base_uri": "https://localhost:8080/",
     "height": 104
    },
    "colab_type": "code",
    "id": "aDpxNtTJ7FlV",
    "outputId": "c474e56c-4478-43bf-ef97-da3508faa66e"
   },
   "outputs": [
    {
     "data": {
      "text/plain": [
       "array([[0., 0., 0., 0., 0., 1., 0., 0., 0., 0.],\n",
       "       [1., 0., 0., 0., 0., 0., 0., 0., 0., 0.],\n",
       "       [0., 0., 0., 0., 1., 0., 0., 0., 0., 0.],\n",
       "       [0., 1., 0., 0., 0., 0., 0., 0., 0., 0.],\n",
       "       [0., 0., 0., 0., 0., 0., 0., 0., 0., 1.]], dtype=float32)"
      ]
     },
     "execution_count": 34,
     "metadata": {
      "tags": []
     },
     "output_type": "execute_result"
    }
   ],
   "source": [
    "y_train[:5]"
   ]
  },
  {
   "cell_type": "code",
   "execution_count": 0,
   "metadata": {
    "colab": {},
    "colab_type": "code",
    "id": "WD2eO1Qq7Jq4"
   },
   "outputs": [],
   "source": [
    "from keras.layers import Dense, Dropout, BatchNormalization, Input, Flatten, Convolution2D, MaxPooling2D, Conv2D\n",
    "from keras.models import Model\n",
    "from keras.optimizers import Adam"
   ]
  },
  {
   "cell_type": "code",
   "execution_count": 0,
   "metadata": {
    "colab": {},
    "colab_type": "code",
    "id": "zMJHdw6J7UJK"
   },
   "outputs": [],
   "source": [
    "inp = Input(shape=(28, 28, 1))\n",
    "x = Flatten()(inp)\n",
    "x = Dense(64, activation=\"relu\")(x)\n",
    "x = Dense(10, activation=\"softmax\")(x)\n",
    "\n",
    "model = Model(inp, x)\n",
    "model.compile(Adam(), loss=\"categorical_crossentropy\", metrics=[\"accuracy\"])"
   ]
  },
  {
   "cell_type": "code",
   "execution_count": 37,
   "metadata": {
    "colab": {
     "base_uri": "https://localhost:8080/",
     "height": 746
    },
    "colab_type": "code",
    "id": "DQs1eME57muY",
    "outputId": "646a3764-a1dd-4107-e97e-93c68c2bedc7"
   },
   "outputs": [
    {
     "name": "stdout",
     "output_type": "stream",
     "text": [
      "Train on 60000 samples, validate on 10000 samples\n",
      "Epoch 1/20\n",
      "60000/60000 [==============================] - 6s 107us/step - loss: 11.6828 - acc: 0.2741 - val_loss: 11.3514 - val_acc: 0.2952\n",
      "Epoch 2/20\n",
      "60000/60000 [==============================] - 6s 108us/step - loss: 10.4395 - acc: 0.3516 - val_loss: 9.7308 - val_acc: 0.3958\n",
      "Epoch 3/20\n",
      "60000/60000 [==============================] - 7s 110us/step - loss: 9.8685 - acc: 0.3872 - val_loss: 9.6540 - val_acc: 0.4009\n",
      "Epoch 4/20\n",
      "60000/60000 [==============================] - 7s 111us/step - loss: 9.8542 - acc: 0.3880 - val_loss: 10.2764 - val_acc: 0.3616\n",
      "Epoch 5/20\n",
      "60000/60000 [==============================] - 6s 99us/step - loss: 9.7806 - acc: 0.3927 - val_loss: 9.7535 - val_acc: 0.3945\n",
      "Epoch 6/20\n",
      "60000/60000 [==============================] - 6s 98us/step - loss: 9.7462 - acc: 0.3950 - val_loss: 9.6782 - val_acc: 0.3993\n",
      "Epoch 7/20\n",
      "60000/60000 [==============================] - 6s 95us/step - loss: 9.7268 - acc: 0.3963 - val_loss: 9.6274 - val_acc: 0.4025\n",
      "Epoch 8/20\n",
      "60000/60000 [==============================] - 6s 98us/step - loss: 9.7319 - acc: 0.3959 - val_loss: 9.6765 - val_acc: 0.3995\n",
      "Epoch 9/20\n",
      "60000/60000 [==============================] - 6s 99us/step - loss: 9.6946 - acc: 0.3983 - val_loss: 9.6026 - val_acc: 0.4040\n",
      "Epoch 10/20\n",
      "60000/60000 [==============================] - 6s 100us/step - loss: 9.7328 - acc: 0.3960 - val_loss: 9.6291 - val_acc: 0.4021\n",
      "Epoch 11/20\n",
      "60000/60000 [==============================] - 6s 100us/step - loss: 9.7388 - acc: 0.3955 - val_loss: 9.5434 - val_acc: 0.4073\n",
      "Epoch 12/20\n",
      "60000/60000 [==============================] - 6s 107us/step - loss: 9.2105 - acc: 0.4279 - val_loss: 8.8770 - val_acc: 0.4487\n",
      "Epoch 13/20\n",
      "60000/60000 [==============================] - 6s 104us/step - loss: 8.6592 - acc: 0.4623 - val_loss: 8.4877 - val_acc: 0.4726\n",
      "Epoch 14/20\n",
      "60000/60000 [==============================] - 6s 105us/step - loss: 8.5379 - acc: 0.4699 - val_loss: 8.5023 - val_acc: 0.4717\n",
      "Epoch 15/20\n",
      "60000/60000 [==============================] - 6s 103us/step - loss: 8.4818 - acc: 0.4734 - val_loss: 8.3474 - val_acc: 0.4818\n",
      "Epoch 16/20\n",
      "60000/60000 [==============================] - 7s 109us/step - loss: 8.4146 - acc: 0.4776 - val_loss: 8.3388 - val_acc: 0.4824\n",
      "Epoch 17/20\n",
      "60000/60000 [==============================] - 6s 104us/step - loss: 8.3786 - acc: 0.4799 - val_loss: 8.2854 - val_acc: 0.4856\n",
      "Epoch 18/20\n",
      "60000/60000 [==============================] - 6s 104us/step - loss: 8.1903 - acc: 0.4914 - val_loss: 7.7178 - val_acc: 0.5200\n",
      "Epoch 19/20\n",
      "60000/60000 [==============================] - 6s 103us/step - loss: 7.2457 - acc: 0.5499 - val_loss: 7.0000 - val_acc: 0.5653\n",
      "Epoch 20/20\n",
      "60000/60000 [==============================] - 6s 103us/step - loss: 7.1669 - acc: 0.5549 - val_loss: 7.0338 - val_acc: 0.5630\n"
     ]
    },
    {
     "data": {
      "text/plain": [
       "<keras.callbacks.History at 0x7fb8f79345f8>"
      ]
     },
     "execution_count": 37,
     "metadata": {
      "tags": []
     },
     "output_type": "execute_result"
    }
   ],
   "source": [
    "model.fit(x=X_train, y=y_train, batch_size=64, epochs=20, validation_data=(X_test, y_test))"
   ]
  },
  {
   "cell_type": "code",
   "execution_count": 0,
   "metadata": {
    "colab": {},
    "colab_type": "code",
    "id": "QAJyt7AL74T-"
   },
   "outputs": [],
   "source": [
    "inp = Input(shape=(28, 28, 1))\n",
    "x = Conv2D(filters=64, kernel_size=(3, 3), activation=\"relu\")(inp)\n",
    "x = Flatten()(x)\n",
    "x = Dense(64, activation=\"relu\")(x)\n",
    "x = BatchNormalization()(x)\n",
    "x = Dense(10, activation=\"softmax\")(x)\n",
    "\n",
    "model = Model(inp, x)\n",
    "model.compile(Adam(), loss=\"categorical_crossentropy\", metrics=[\"accuracy\"])"
   ]
  },
  {
   "cell_type": "code",
   "execution_count": 43,
   "metadata": {
    "colab": {
     "base_uri": "https://localhost:8080/",
     "height": 225
    },
    "colab_type": "code",
    "id": "iSNX9ahA9rMx",
    "outputId": "049c3224-1084-48c2-e24f-6ccd4889a8a0"
   },
   "outputs": [
    {
     "name": "stdout",
     "output_type": "stream",
     "text": [
      "Train on 60000 samples, validate on 10000 samples\n",
      "Epoch 1/5\n",
      "60000/60000 [==============================] - 18s 304us/step - loss: 0.1358 - acc: 0.9615 - val_loss: 0.0614 - val_acc: 0.9802\n",
      "Epoch 2/5\n",
      "60000/60000 [==============================] - 17s 290us/step - loss: 0.0426 - acc: 0.9873 - val_loss: 0.0630 - val_acc: 0.9794\n",
      "Epoch 3/5\n",
      "60000/60000 [==============================] - 17s 281us/step - loss: 0.0217 - acc: 0.9935 - val_loss: 0.0660 - val_acc: 0.9791\n",
      "Epoch 4/5\n",
      "60000/60000 [==============================] - 16s 275us/step - loss: 0.0138 - acc: 0.9959 - val_loss: 0.0767 - val_acc: 0.9779\n",
      "Epoch 5/5\n",
      "60000/60000 [==============================] - 16s 261us/step - loss: 0.0109 - acc: 0.9968 - val_loss: 0.0606 - val_acc: 0.9823\n"
     ]
    },
    {
     "data": {
      "text/plain": [
       "<keras.callbacks.History at 0x7fb8f6526320>"
      ]
     },
     "execution_count": 43,
     "metadata": {
      "tags": []
     },
     "output_type": "execute_result"
    }
   ],
   "source": [
    "model.fit(x=X_train, y=y_train, batch_size=64, epochs=5, validation_data=(X_test, y_test))"
   ]
  },
  {
   "cell_type": "code",
   "execution_count": 0,
   "metadata": {
    "colab": {},
    "colab_type": "code",
    "id": "gL5CwCZn9uFZ"
   },
   "outputs": [],
   "source": [
    "inp = Input(shape=(28, 28, 1))\n",
    "x = BatchNormalization()(inp)\n",
    "x = Conv2D(filters=64, kernel_size=(3, 3), activation=\"relu\")(x)\n",
    "x = Flatten()(x)\n",
    "x = Dense(64, activation=\"relu\")(x)\n",
    "x = BatchNormalization()(x)\n",
    "x = Dense(10, activation=\"softmax\")(x)\n",
    "\n",
    "model = Model(inp, x)\n",
    "model.compile(Adam(), loss=\"categorical_crossentropy\", metrics=[\"accuracy\"])"
   ]
  },
  {
   "cell_type": "code",
   "execution_count": 45,
   "metadata": {
    "colab": {
     "base_uri": "https://localhost:8080/",
     "height": 225
    },
    "colab_type": "code",
    "id": "f6X2DuNG-XHo",
    "outputId": "eec54831-9d2f-46b3-ff07-d74a27da59f0"
   },
   "outputs": [
    {
     "name": "stdout",
     "output_type": "stream",
     "text": [
      "Train on 60000 samples, validate on 10000 samples\n",
      "Epoch 1/5\n",
      "60000/60000 [==============================] - 18s 298us/step - loss: 0.1505 - acc: 0.9587 - val_loss: 0.0654 - val_acc: 0.9790\n",
      "Epoch 2/5\n",
      "60000/60000 [==============================] - 16s 272us/step - loss: 0.0497 - acc: 0.9856 - val_loss: 0.0607 - val_acc: 0.9815\n",
      "Epoch 3/5\n",
      "60000/60000 [==============================] - 18s 297us/step - loss: 0.0280 - acc: 0.9918 - val_loss: 0.0661 - val_acc: 0.9796\n",
      "Epoch 4/5\n",
      "60000/60000 [==============================] - 18s 307us/step - loss: 0.0168 - acc: 0.9950 - val_loss: 0.0670 - val_acc: 0.9797\n",
      "Epoch 5/5\n",
      "60000/60000 [==============================] - 18s 293us/step - loss: 0.0128 - acc: 0.9961 - val_loss: 0.0822 - val_acc: 0.9780\n"
     ]
    },
    {
     "data": {
      "text/plain": [
       "<keras.callbacks.History at 0x7fb8f65ca080>"
      ]
     },
     "execution_count": 45,
     "metadata": {
      "tags": []
     },
     "output_type": "execute_result"
    }
   ],
   "source": [
    "model.fit(x=X_train, y=y_train, batch_size=64, epochs=5, validation_data=(X_test, y_test))"
   ]
  },
  {
   "cell_type": "code",
   "execution_count": 0,
   "metadata": {
    "colab": {},
    "colab_type": "code",
    "id": "nfjdPzQ9-ZYl"
   },
   "outputs": [],
   "source": [
    "inp = Input(shape=(28, 28, 1))\n",
    "x = BatchNormalization()(inp)\n",
    "x = Conv2D(filters=64, kernel_size=(3, 3), activation=\"relu\")(x)\n",
    "x = MaxPooling2D()(x)\n",
    "x = Flatten()(x)\n",
    "x = Dense(64, activation=\"relu\")(x)\n",
    "x = BatchNormalization()(x)\n",
    "x = Dense(10, activation=\"softmax\")(x)\n",
    "\n",
    "model = Model(inp, x)\n",
    "model.compile(Adam(), loss=\"categorical_crossentropy\", metrics=[\"accuracy\"])"
   ]
  },
  {
   "cell_type": "code",
   "execution_count": 47,
   "metadata": {
    "colab": {
     "base_uri": "https://localhost:8080/",
     "height": 225
    },
    "colab_type": "code",
    "id": "thcjnhtp-mOd",
    "outputId": "33d80347-01df-435f-994b-857e72ca000f"
   },
   "outputs": [
    {
     "name": "stdout",
     "output_type": "stream",
     "text": [
      "Train on 60000 samples, validate on 10000 samples\n",
      "Epoch 1/5\n",
      "60000/60000 [==============================] - 15s 251us/step - loss: 0.1352 - acc: 0.9636 - val_loss: 0.0863 - val_acc: 0.9733\n",
      "Epoch 2/5\n",
      "60000/60000 [==============================] - 14s 231us/step - loss: 0.0501 - acc: 0.9853 - val_loss: 0.0799 - val_acc: 0.9756\n",
      "Epoch 3/5\n",
      "60000/60000 [==============================] - 14s 234us/step - loss: 0.0320 - acc: 0.9901 - val_loss: 0.0640 - val_acc: 0.9802\n",
      "Epoch 4/5\n",
      "60000/60000 [==============================] - 14s 234us/step - loss: 0.0219 - acc: 0.9932 - val_loss: 0.0497 - val_acc: 0.9840\n",
      "Epoch 5/5\n",
      "60000/60000 [==============================] - 14s 238us/step - loss: 0.0158 - acc: 0.9950 - val_loss: 0.0641 - val_acc: 0.9809\n"
     ]
    },
    {
     "data": {
      "text/plain": [
       "<keras.callbacks.History at 0x7fb8f561a438>"
      ]
     },
     "execution_count": 47,
     "metadata": {
      "tags": []
     },
     "output_type": "execute_result"
    }
   ],
   "source": [
    "model.fit(x=X_train, y=y_train, batch_size=64, epochs=5, validation_data=(X_test, y_test))"
   ]
  },
  {
   "cell_type": "code",
   "execution_count": 0,
   "metadata": {
    "colab": {},
    "colab_type": "code",
    "id": "rcnSF1Af-uPy"
   },
   "outputs": [],
   "source": [
    "inp = Input(shape=(28, 28, 1))\n",
    "x = BatchNormalization()(inp)\n",
    "x = Conv2D(filters=64, kernel_size=(3, 3), activation=\"relu\")(x)\n",
    "x = MaxPooling2D()(x)\n",
    "x = BatchNormalization()(x)\n",
    "x = Conv2D(filters=128, kernel_size=(3, 3), activation=\"relu\")(x)\n",
    "x = MaxPooling2D()(x)\n",
    "x = Flatten()(x)\n",
    "x = Dense(64, activation=\"relu\")(x)\n",
    "x = BatchNormalization()(x)\n",
    "x = Dense(10, activation=\"softmax\")(x)\n",
    "\n",
    "model = Model(inp, x)\n",
    "model.compile(Adam(), loss=\"categorical_crossentropy\", metrics=[\"accuracy\"])"
   ]
  },
  {
   "cell_type": "code",
   "execution_count": 50,
   "metadata": {
    "colab": {
     "base_uri": "https://localhost:8080/",
     "height": 225
    },
    "colab_type": "code",
    "id": "aQJ19bjjADbp",
    "outputId": "0d2c8e93-1ba4-48ed-8b93-58f53cca1d84"
   },
   "outputs": [
    {
     "name": "stdout",
     "output_type": "stream",
     "text": [
      "Train on 60000 samples, validate on 10000 samples\n",
      "Epoch 1/5\n",
      "60000/60000 [==============================] - 21s 346us/step - loss: 0.0959 - acc: 0.9738 - val_loss: 0.0630 - val_acc: 0.9799\n",
      "Epoch 2/5\n",
      "60000/60000 [==============================] - 19s 314us/step - loss: 0.0389 - acc: 0.9885 - val_loss: 0.0442 - val_acc: 0.9865\n",
      "Epoch 3/5\n",
      "60000/60000 [==============================] - 19s 316us/step - loss: 0.0265 - acc: 0.9919 - val_loss: 0.0354 - val_acc: 0.9886\n",
      "Epoch 4/5\n",
      "60000/60000 [==============================] - 19s 319us/step - loss: 0.0199 - acc: 0.9936 - val_loss: 0.0322 - val_acc: 0.9902\n",
      "Epoch 5/5\n",
      "60000/60000 [==============================] - 20s 338us/step - loss: 0.0166 - acc: 0.9949 - val_loss: 0.0395 - val_acc: 0.9880\n"
     ]
    },
    {
     "data": {
      "text/plain": [
       "<keras.callbacks.History at 0x7fb8f4b881d0>"
      ]
     },
     "execution_count": 50,
     "metadata": {
      "tags": []
     },
     "output_type": "execute_result"
    }
   ],
   "source": [
    "model.fit(x=X_train, y=y_train, batch_size=64, epochs=5, validation_data=(X_test, y_test))"
   ]
  },
  {
   "cell_type": "code",
   "execution_count": 0,
   "metadata": {
    "colab": {},
    "colab_type": "code",
    "id": "ZYC2H_A5Ahw4"
   },
   "outputs": [],
   "source": [
    "model.optimizer.lr = 0.001"
   ]
  },
  {
   "cell_type": "code",
   "execution_count": 53,
   "metadata": {
    "colab": {
     "base_uri": "https://localhost:8080/",
     "height": 121
    },
    "colab_type": "code",
    "id": "X6u9BhbtBFTX",
    "outputId": "905ba34c-2058-4cd8-ad77-f2a474d1335c"
   },
   "outputs": [
    {
     "name": "stdout",
     "output_type": "stream",
     "text": [
      "Train on 60000 samples, validate on 10000 samples\n",
      "Epoch 1/2\n",
      "60000/60000 [==============================] - 20s 331us/step - loss: 0.0115 - acc: 0.9965 - val_loss: 0.0389 - val_acc: 0.9888\n",
      "Epoch 2/2\n",
      "60000/60000 [==============================] - 20s 327us/step - loss: 0.0110 - acc: 0.9961 - val_loss: 0.0339 - val_acc: 0.9905\n"
     ]
    },
    {
     "data": {
      "text/plain": [
       "<keras.callbacks.History at 0x7fb8f4b882e8>"
      ]
     },
     "execution_count": 53,
     "metadata": {
      "tags": []
     },
     "output_type": "execute_result"
    }
   ],
   "source": [
    "model.fit(x=X_train, y=y_train, batch_size=64, epochs=2, validation_data=(X_test, y_test))"
   ]
  },
  {
   "cell_type": "code",
   "execution_count": 54,
   "metadata": {
    "colab": {
     "base_uri": "https://localhost:8080/",
     "height": 121
    },
    "colab_type": "code",
    "id": "tk-FHl8pBPe2",
    "outputId": "58c916fd-ce26-4e29-c3d8-264bce074418"
   },
   "outputs": [
    {
     "name": "stdout",
     "output_type": "stream",
     "text": [
      "Train on 60000 samples, validate on 10000 samples\n",
      "Epoch 1/2\n",
      "60000/60000 [==============================] - 19s 323us/step - loss: 0.0076 - acc: 0.9977 - val_loss: 0.0434 - val_acc: 0.9871\n",
      "Epoch 2/2\n",
      "60000/60000 [==============================] - 20s 328us/step - loss: 0.0059 - acc: 0.9982 - val_loss: 0.0353 - val_acc: 0.9898\n"
     ]
    },
    {
     "data": {
      "text/plain": [
       "<keras.callbacks.History at 0x7fb8f4b883c8>"
      ]
     },
     "execution_count": 54,
     "metadata": {
      "tags": []
     },
     "output_type": "execute_result"
    }
   ],
   "source": [
    "model.fit(x=X_train, y=y_train, batch_size=64, epochs=2, validation_data=(X_test, y_test))"
   ]
  },
  {
   "cell_type": "code",
   "execution_count": 0,
   "metadata": {
    "colab": {},
    "colab_type": "code",
    "id": "alHWihJFBcVB"
   },
   "outputs": [],
   "source": [
    "inp = Input(shape=(28, 28, 1))\n",
    "x = BatchNormalization()(inp)\n",
    "x = Conv2D(filters=64, kernel_size=(3, 3), activation=\"relu\")(x)\n",
    "x = MaxPooling2D()(x)\n",
    "x = Dropout(0.3)(x)\n",
    "x = BatchNormalization()(x)\n",
    "x = Conv2D(filters=128, kernel_size=(3, 3), activation=\"relu\")(x)\n",
    "x = MaxPooling2D()(x)\n",
    "x = Dropout(0.4)(x)\n",
    "x = BatchNormalization()(x)\n",
    "x = Conv2D(filters=256, kernel_size=(3, 3), activation=\"relu\")(x)\n",
    "x = MaxPooling2D()(x)\n",
    "x= Dropout(0.5)(x)\n",
    "x = Flatten()(x)\n",
    "x = Dense(64, activation=\"relu\")(x)\n",
    "x = Dropout(0.6)(x)\n",
    "x = BatchNormalization()(x)\n",
    "x = Dense(10, activation=\"softmax\")(x)\n",
    "\n",
    "model = Model(inp, x)\n",
    "model.compile(Adam(), loss=\"categorical_crossentropy\", metrics=[\"accuracy\"])"
   ]
  },
  {
   "cell_type": "code",
   "execution_count": 75,
   "metadata": {
    "colab": {
     "base_uri": "https://localhost:8080/",
     "height": 225
    },
    "colab_type": "code",
    "id": "YWSiCd-QCbJS",
    "outputId": "32c33bd4-00ce-46a6-e429-e9ba1a5dd868"
   },
   "outputs": [
    {
     "name": "stdout",
     "output_type": "stream",
     "text": [
      "Train on 60000 samples, validate on 10000 samples\n",
      "Epoch 1/5\n",
      "60000/60000 [==============================] - 32s 533us/step - loss: 0.7479 - acc: 0.7726 - val_loss: 0.1339 - val_acc: 0.9642\n",
      "Epoch 2/5\n",
      "60000/60000 [==============================] - 28s 472us/step - loss: 0.2432 - acc: 0.9363 - val_loss: 0.0698 - val_acc: 0.9793\n",
      "Epoch 3/5\n",
      "60000/60000 [==============================] - 29s 476us/step - loss: 0.1785 - acc: 0.9542 - val_loss: 0.0707 - val_acc: 0.9796\n",
      "Epoch 4/5\n",
      "60000/60000 [==============================] - 30s 498us/step - loss: 0.1508 - acc: 0.9612 - val_loss: 0.0569 - val_acc: 0.9836\n",
      "Epoch 5/5\n",
      "60000/60000 [==============================] - 29s 478us/step - loss: 0.1354 - acc: 0.9652 - val_loss: 0.0563 - val_acc: 0.9843\n"
     ]
    },
    {
     "data": {
      "text/plain": [
       "<keras.callbacks.History at 0x7fb8df044f28>"
      ]
     },
     "execution_count": 75,
     "metadata": {
      "tags": []
     },
     "output_type": "execute_result"
    }
   ],
   "source": [
    "model.fit(x=X_train, y=y_train, batch_size=64, epochs=5, validation_data=(X_test, y_test))"
   ]
  },
  {
   "cell_type": "code",
   "execution_count": 76,
   "metadata": {
    "colab": {
     "base_uri": "https://localhost:8080/",
     "height": 156
    },
    "colab_type": "code",
    "id": "JHaz29byE5ns",
    "outputId": "7da6f4a8-ac2e-4742-8ded-77e0fdc76b92"
   },
   "outputs": [
    {
     "name": "stdout",
     "output_type": "stream",
     "text": [
      "Train on 60000 samples, validate on 10000 samples\n",
      "Epoch 1/3\n",
      "60000/60000 [==============================] - 29s 486us/step - loss: 0.1240 - acc: 0.9670 - val_loss: 0.0450 - val_acc: 0.9885\n",
      "Epoch 2/3\n",
      "60000/60000 [==============================] - 29s 491us/step - loss: 0.1146 - acc: 0.9700 - val_loss: 0.0435 - val_acc: 0.9876\n",
      "Epoch 3/3\n",
      "60000/60000 [==============================] - 30s 492us/step - loss: 0.1058 - acc: 0.9723 - val_loss: 0.0433 - val_acc: 0.9891\n"
     ]
    },
    {
     "data": {
      "text/plain": [
       "<keras.callbacks.History at 0x7fb8df08e9e8>"
      ]
     },
     "execution_count": 76,
     "metadata": {
      "tags": []
     },
     "output_type": "execute_result"
    }
   ],
   "source": [
    "model.fit(x=X_train, y=y_train, batch_size=64, epochs=3, validation_data=(X_test, y_test))"
   ]
  },
  {
   "cell_type": "code",
   "execution_count": 77,
   "metadata": {
    "colab": {
     "base_uri": "https://localhost:8080/",
     "height": 121
    },
    "colab_type": "code",
    "id": "aUzkk4gPFUUh",
    "outputId": "636b8b38-4eac-4935-df19-858e93aa135c"
   },
   "outputs": [
    {
     "name": "stdout",
     "output_type": "stream",
     "text": [
      "Train on 60000 samples, validate on 10000 samples\n",
      "Epoch 1/2\n",
      "60000/60000 [==============================] - 29s 484us/step - loss: 0.1023 - acc: 0.9742 - val_loss: 0.0410 - val_acc: 0.9885\n",
      "Epoch 2/2\n",
      "60000/60000 [==============================] - 28s 463us/step - loss: 0.0999 - acc: 0.9741 - val_loss: 0.0415 - val_acc: 0.9886\n"
     ]
    },
    {
     "data": {
      "text/plain": [
       "<keras.callbacks.History at 0x7fb8de158780>"
      ]
     },
     "execution_count": 77,
     "metadata": {
      "tags": []
     },
     "output_type": "execute_result"
    }
   ],
   "source": [
    "model.fit(x=X_train, y=y_train, batch_size=64, epochs=2, validation_data=(X_test, y_test))"
   ]
  },
  {
   "cell_type": "code",
   "execution_count": 0,
   "metadata": {
    "colab": {},
    "colab_type": "code",
    "id": "_pW-9yyXEByC"
   },
   "outputs": [],
   "source": [
    "inp = Input(shape=(28, 28, 1))\n",
    "x = BatchNormalization()(inp)\n",
    "x = Conv2D(filters=64, kernel_size=(3, 3), activation=\"relu\")(x)\n",
    "x = MaxPooling2D()(x)\n",
    "x = BatchNormalization()(x)\n",
    "x = Conv2D(filters=128, kernel_size=(3, 3), activation=\"relu\")(x)\n",
    "x = MaxPooling2D()(x)\n",
    "x = BatchNormalization()(x)\n",
    "x = Conv2D(filters=256, kernel_size=(3, 3), activation=\"relu\")(x)\n",
    "x = MaxPooling2D()(x)\n",
    "x= Dropout(0.5)(x)\n",
    "x = Flatten()(x)\n",
    "x = Dense(64, activation=\"relu\")(x)\n",
    "x = Dropout(0.5)(x)\n",
    "x = BatchNormalization()(x)\n",
    "x = Dense(10, activation=\"softmax\")(x)\n",
    "\n",
    "model = Model(inp, x)\n",
    "model.compile(Adam(), loss=\"categorical_crossentropy\", metrics=[\"accuracy\"])"
   ]
  },
  {
   "cell_type": "code",
   "execution_count": 79,
   "metadata": {
    "colab": {
     "base_uri": "https://localhost:8080/",
     "height": 225
    },
    "colab_type": "code",
    "id": "8H5U3dhNFWC6",
    "outputId": "63f73608-4b03-4eae-cc4f-de04a2aed490"
   },
   "outputs": [
    {
     "name": "stdout",
     "output_type": "stream",
     "text": [
      "Train on 60000 samples, validate on 10000 samples\n",
      "Epoch 1/5\n",
      "60000/60000 [==============================] - 29s 491us/step - loss: 0.3958 - acc: 0.8914 - val_loss: 0.0645 - val_acc: 0.9809\n",
      "Epoch 2/5\n",
      "60000/60000 [==============================] - 28s 461us/step - loss: 0.1293 - acc: 0.9664 - val_loss: 0.0513 - val_acc: 0.9853\n",
      "Epoch 3/5\n",
      "60000/60000 [==============================] - 29s 490us/step - loss: 0.0989 - acc: 0.9744 - val_loss: 0.0597 - val_acc: 0.9836\n",
      "Epoch 4/5\n",
      "60000/60000 [==============================] - 32s 530us/step - loss: 0.0809 - acc: 0.9787 - val_loss: 0.0437 - val_acc: 0.9873\n",
      "Epoch 5/5\n",
      "60000/60000 [==============================] - 30s 507us/step - loss: 0.0695 - acc: 0.9816 - val_loss: 0.0536 - val_acc: 0.9856\n"
     ]
    },
    {
     "data": {
      "text/plain": [
       "<keras.callbacks.History at 0x7fb8de264a20>"
      ]
     },
     "execution_count": 79,
     "metadata": {
      "tags": []
     },
     "output_type": "execute_result"
    }
   ],
   "source": [
    "model.fit(x=X_train, y=y_train, batch_size=64, epochs=5, validation_data=(X_test, y_test))"
   ]
  },
  {
   "cell_type": "code",
   "execution_count": 80,
   "metadata": {
    "colab": {
     "base_uri": "https://localhost:8080/",
     "height": 225
    },
    "colab_type": "code",
    "id": "344i4pt7FkSo",
    "outputId": "53b59491-4b43-4bd1-aae0-7aad34d11e4c"
   },
   "outputs": [
    {
     "name": "stdout",
     "output_type": "stream",
     "text": [
      "Train on 60000 samples, validate on 10000 samples\n",
      "Epoch 1/5\n",
      "60000/60000 [==============================] - 30s 507us/step - loss: 0.0601 - acc: 0.9833 - val_loss: 0.0457 - val_acc: 0.9869\n",
      "Epoch 2/5\n",
      "60000/60000 [==============================] - 31s 517us/step - loss: 0.0533 - acc: 0.9857 - val_loss: 0.0370 - val_acc: 0.9899\n",
      "Epoch 3/5\n",
      "60000/60000 [==============================] - 29s 480us/step - loss: 0.0496 - acc: 0.9864 - val_loss: 0.0458 - val_acc: 0.9879\n",
      "Epoch 4/5\n",
      "60000/60000 [==============================] - 27s 452us/step - loss: 0.0431 - acc: 0.9880 - val_loss: 0.0397 - val_acc: 0.9891\n",
      "Epoch 5/5\n",
      "60000/60000 [==============================] - 26s 440us/step - loss: 0.0407 - acc: 0.9894 - val_loss: 0.0483 - val_acc: 0.9883\n"
     ]
    },
    {
     "data": {
      "text/plain": [
       "<keras.callbacks.History at 0x7fb8dd391f98>"
      ]
     },
     "execution_count": 80,
     "metadata": {
      "tags": []
     },
     "output_type": "execute_result"
    }
   ],
   "source": [
    "model.fit(x=X_train, y=y_train, batch_size=64, epochs=5, validation_data=(X_test, y_test))"
   ]
  },
  {
   "cell_type": "code",
   "execution_count": 0,
   "metadata": {
    "colab": {},
    "colab_type": "code",
    "id": "K7fFfeudFmxa"
   },
   "outputs": [],
   "source": [
    "model.optimizer.lr = 0.001"
   ]
  },
  {
   "cell_type": "code",
   "execution_count": 82,
   "metadata": {
    "colab": {
     "base_uri": "https://localhost:8080/",
     "height": 225
    },
    "colab_type": "code",
    "id": "SeKfM4ohFXzr",
    "outputId": "2aff254b-4d37-4d55-c2c7-a9bccebdb480"
   },
   "outputs": [
    {
     "name": "stdout",
     "output_type": "stream",
     "text": [
      "Train on 60000 samples, validate on 10000 samples\n",
      "Epoch 1/5\n",
      "60000/60000 [==============================] - 27s 444us/step - loss: 0.0360 - acc: 0.9902 - val_loss: 0.0388 - val_acc: 0.9893\n",
      "Epoch 2/5\n",
      "60000/60000 [==============================] - 31s 513us/step - loss: 0.0323 - acc: 0.9910 - val_loss: 0.0477 - val_acc: 0.9876\n",
      "Epoch 3/5\n",
      "60000/60000 [==============================] - 28s 473us/step - loss: 0.0290 - acc: 0.9921 - val_loss: 0.0393 - val_acc: 0.9914\n",
      "Epoch 4/5\n",
      "60000/60000 [==============================] - 27s 446us/step - loss: 0.0288 - acc: 0.9923 - val_loss: 0.0462 - val_acc: 0.9904\n",
      "Epoch 5/5\n",
      "60000/60000 [==============================] - 28s 459us/step - loss: 0.0262 - acc: 0.9929 - val_loss: 0.0471 - val_acc: 0.9891\n"
     ]
    },
    {
     "data": {
      "text/plain": [
       "<keras.callbacks.History at 0x7fb8df0fe128>"
      ]
     },
     "execution_count": 82,
     "metadata": {
      "tags": []
     },
     "output_type": "execute_result"
    }
   ],
   "source": [
    "model.fit(x=X_train, y=y_train, batch_size=64, epochs=5, validation_data=(X_test, y_test))"
   ]
  },
  {
   "cell_type": "code",
   "execution_count": 0,
   "metadata": {
    "colab": {},
    "colab_type": "code",
    "id": "CSPPr1spFsIp"
   },
   "outputs": [],
   "source": [
    "inp = Input(shape=(28, 28, 1))\n",
    "x = BatchNormalization()(inp)\n",
    "x = Conv2D(filters=64, kernel_size=(3, 3), activation=\"relu\")(x)\n",
    "x = MaxPooling2D()(x)\n",
    "x = BatchNormalization()(x)\n",
    "x = Conv2D(filters=128, kernel_size=(3, 3), activation=\"relu\")(x)\n",
    "x = MaxPooling2D()(x)\n",
    "x = BatchNormalization()(x)\n",
    "x = Conv2D(filters=256, kernel_size=(3, 3), activation=\"relu\")(x)\n",
    "x = MaxPooling2D()(x)\n",
    "x = Flatten()(x)\n",
    "x = Dense(64, activation=\"relu\")(x)\n",
    "x = Dropout(0.5)(x)\n",
    "x = BatchNormalization()(x)\n",
    "x = Dense(10, activation=\"softmax\")(x)\n",
    "\n",
    "model = Model(inp, x)\n",
    "model.compile(Adam(), loss=\"categorical_crossentropy\", metrics=[\"accuracy\"])"
   ]
  },
  {
   "cell_type": "code",
   "execution_count": 84,
   "metadata": {
    "colab": {
     "base_uri": "https://localhost:8080/",
     "height": 399
    },
    "colab_type": "code",
    "id": "7Y883OJJI6SM",
    "outputId": "5e3eee0d-57a1-4316-b25c-cbfa9601606d"
   },
   "outputs": [
    {
     "name": "stdout",
     "output_type": "stream",
     "text": [
      "Train on 60000 samples, validate on 10000 samples\n",
      "Epoch 1/10\n",
      "60000/60000 [==============================] - 31s 524us/step - loss: 0.2430 - acc: 0.9381 - val_loss: 0.0547 - val_acc: 0.9840\n",
      "Epoch 2/10\n",
      "60000/60000 [==============================] - 27s 454us/step - loss: 0.0905 - acc: 0.9768 - val_loss: 0.0525 - val_acc: 0.9844\n",
      "Epoch 3/10\n",
      "60000/60000 [==============================] - 28s 464us/step - loss: 0.0660 - acc: 0.9820 - val_loss: 0.0555 - val_acc: 0.9845\n",
      "Epoch 4/10\n",
      "60000/60000 [==============================] - 29s 479us/step - loss: 0.0538 - acc: 0.9853 - val_loss: 0.0501 - val_acc: 0.9863\n",
      "Epoch 5/10\n",
      "60000/60000 [==============================] - 29s 480us/step - loss: 0.0422 - acc: 0.9885 - val_loss: 0.0396 - val_acc: 0.9888\n",
      "Epoch 6/10\n",
      "60000/60000 [==============================] - 28s 467us/step - loss: 0.0355 - acc: 0.9902 - val_loss: 0.0408 - val_acc: 0.9883\n",
      "Epoch 7/10\n",
      "60000/60000 [==============================] - 28s 463us/step - loss: 0.0318 - acc: 0.9914 - val_loss: 0.0441 - val_acc: 0.9881\n",
      "Epoch 8/10\n",
      "60000/60000 [==============================] - 27s 458us/step - loss: 0.0258 - acc: 0.9926 - val_loss: 0.0400 - val_acc: 0.9898\n",
      "Epoch 9/10\n",
      "60000/60000 [==============================] - 27s 448us/step - loss: 0.0245 - acc: 0.9930 - val_loss: 0.0553 - val_acc: 0.9877\n",
      "Epoch 10/10\n",
      "60000/60000 [==============================] - 28s 469us/step - loss: 0.0204 - acc: 0.9940 - val_loss: 0.0456 - val_acc: 0.9895\n"
     ]
    },
    {
     "data": {
      "text/plain": [
       "<keras.callbacks.History at 0x7fb8dd3b9b70>"
      ]
     },
     "execution_count": 84,
     "metadata": {
      "tags": []
     },
     "output_type": "execute_result"
    }
   ],
   "source": [
    "model.fit(x=X_train, y=y_train, batch_size=64, epochs=10, validation_data=(X_test, y_test))"
   ]
  },
  {
   "cell_type": "code",
   "execution_count": 0,
   "metadata": {
    "colab": {},
    "colab_type": "code",
    "id": "CpQGULc7I-A7"
   },
   "outputs": [],
   "source": [
    "model.optimizer.lr = 0.001"
   ]
  },
  {
   "cell_type": "code",
   "execution_count": 86,
   "metadata": {
    "colab": {
     "base_uri": "https://localhost:8080/",
     "height": 225
    },
    "colab_type": "code",
    "id": "jm6iRWlJJ6gG",
    "outputId": "f7ff1665-c3a7-484f-eafa-41fa816321d6"
   },
   "outputs": [
    {
     "name": "stdout",
     "output_type": "stream",
     "text": [
      "Train on 60000 samples, validate on 10000 samples\n",
      "Epoch 1/5\n",
      "60000/60000 [==============================] - 30s 501us/step - loss: 0.0171 - acc: 0.9950 - val_loss: 0.0427 - val_acc: 0.9897\n",
      "Epoch 2/5\n",
      "60000/60000 [==============================] - 29s 491us/step - loss: 0.0172 - acc: 0.9950 - val_loss: 0.0471 - val_acc: 0.9894\n",
      "Epoch 3/5\n",
      "60000/60000 [==============================] - 29s 486us/step - loss: 0.0140 - acc: 0.9957 - val_loss: 0.0615 - val_acc: 0.9871\n",
      "Epoch 4/5\n",
      "60000/60000 [==============================] - 30s 499us/step - loss: 0.0118 - acc: 0.9969 - val_loss: 0.0519 - val_acc: 0.9876\n",
      "Epoch 5/5\n",
      "60000/60000 [==============================] - 29s 490us/step - loss: 0.0124 - acc: 0.9963 - val_loss: 0.0460 - val_acc: 0.9911\n"
     ]
    },
    {
     "data": {
      "text/plain": [
       "<keras.callbacks.History at 0x7fb8dd3917b8>"
      ]
     },
     "execution_count": 86,
     "metadata": {
      "tags": []
     },
     "output_type": "execute_result"
    }
   ],
   "source": [
    "model.fit(x=X_train, y=y_train, batch_size=64, epochs=5, validation_data=(X_test, y_test))"
   ]
  },
  {
   "cell_type": "code",
   "execution_count": 0,
   "metadata": {
    "colab": {},
    "colab_type": "code",
    "id": "cwJeDvalJ_N-"
   },
   "outputs": [],
   "source": []
  }
 ],
 "metadata": {
  "accelerator": "GPU",
  "colab": {
   "name": "Mnist Dataset (Dealing with Overfitting).ipynb",
   "provenance": [],
   "version": "0.3.2"
  },
  "kernelspec": {
   "display_name": "Python 3",
   "language": "python",
   "name": "python3"
  },
  "language_info": {
   "codemirror_mode": {
    "name": "ipython",
    "version": 3
   },
   "file_extension": ".py",
   "mimetype": "text/x-python",
   "name": "python",
   "nbconvert_exporter": "python",
   "pygments_lexer": "ipython3",
   "version": "3.6.5"
  }
 },
 "nbformat": 4,
 "nbformat_minor": 1
}
